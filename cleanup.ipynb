{
 "cells": [
  {
   "cell_type": "code",
   "execution_count": 8,
   "metadata": {
    "collapsed": true
   },
   "outputs": [],
   "source": [
    "import pandas as pd\n",
    "import numpy as np\n"
   ]
  },
  {
   "cell_type": "code",
   "execution_count": 2,
   "metadata": {
    "collapsed": false
   },
   "outputs": [],
   "source": [
    "%%bash\n",
    "sed 's/ /,/g' scripts/New_centers_Orientation.txt > orientations.csv"
   ]
  },
  {
   "cell_type": "code",
   "execution_count": 5,
   "metadata": {
    "collapsed": false
   },
   "outputs": [],
   "source": [
    "df=pd.read_csv(\"scripts/orientations.csv\")\n",
    "df.head()\n",
    "df.File=['ALI_'+i[:-5]+'_0.fits' for i in df.File]\n",
    "df.to_csv(\"orient.csv\",index=False)"
   ]
  },
  {
   "cell_type": "code",
   "execution_count": 6,
   "metadata": {
    "collapsed": false
   },
   "outputs": [
    {
     "data": {
      "text/html": [
       "<div>\n",
       "<table border=\"1\" class=\"dataframe\">\n",
       "  <thead>\n",
       "    <tr style=\"text-align: right;\">\n",
       "      <th></th>\n",
       "      <th>File</th>\n",
       "      <th>Center_x_new</th>\n",
       "      <th>Center_y_new</th>\n",
       "      <th>Orientation</th>\n",
       "    </tr>\n",
       "  </thead>\n",
       "  <tbody>\n",
       "    <tr>\n",
       "      <th>0</th>\n",
       "      <td>ALI_ob7916010_flt_0.fits</td>\n",
       "      <td>805.271774</td>\n",
       "      <td>304.908595</td>\n",
       "      <td>-164.8450</td>\n",
       "    </tr>\n",
       "    <tr>\n",
       "      <th>1</th>\n",
       "      <td>ALI_ob7917010_flt_0.fits</td>\n",
       "      <td>803.814891</td>\n",
       "      <td>296.926541</td>\n",
       "      <td>-151.8810</td>\n",
       "    </tr>\n",
       "    <tr>\n",
       "      <th>2</th>\n",
       "      <td>ALI_ob7918010_flt_0.fits</td>\n",
       "      <td>801.224853</td>\n",
       "      <td>301.961082</td>\n",
       "      <td>-138.9450</td>\n",
       "    </tr>\n",
       "    <tr>\n",
       "      <th>3</th>\n",
       "      <td>ALI_ob7919010_flt_0.fits</td>\n",
       "      <td>805.639477</td>\n",
       "      <td>304.479600</td>\n",
       "      <td>-31.9446</td>\n",
       "    </tr>\n",
       "    <tr>\n",
       "      <th>4</th>\n",
       "      <td>ALI_ob7919020_flt_0.fits</td>\n",
       "      <td>805.703398</td>\n",
       "      <td>304.453825</td>\n",
       "      <td>-31.9446</td>\n",
       "    </tr>\n",
       "  </tbody>\n",
       "</table>\n",
       "</div>"
      ],
      "text/plain": [
       "                       File  Center_x_new  Center_y_new  Orientation\n",
       "0  ALI_ob7916010_flt_0.fits    805.271774    304.908595    -164.8450\n",
       "1  ALI_ob7917010_flt_0.fits    803.814891    296.926541    -151.8810\n",
       "2  ALI_ob7918010_flt_0.fits    801.224853    301.961082    -138.9450\n",
       "3  ALI_ob7919010_flt_0.fits    805.639477    304.479600     -31.9446\n",
       "4  ALI_ob7919020_flt_0.fits    805.703398    304.453825     -31.9446"
      ]
     },
     "execution_count": 6,
     "metadata": {},
     "output_type": "execute_result"
    }
   ],
   "source": [
    "dfs=pd.read_csv(\"orient.csv\")\n",
    "dfs.head()"
   ]
  },
  {
   "cell_type": "code",
   "execution_count": 9,
   "metadata": {
    "collapsed": false
   },
   "outputs": [],
   "source": [
    "for i in range(len(dfs)):\n",
    "    f='info/'+dfs.File[i][:-5]+'.inf'\n",
    "    info=np.asarray(dfs[['Center_x_new','Center_y_new','Orientation']][i:i+1])\n",
    "    np.savetxt(f,info)"
   ]
  },
  {
   "cell_type": "code",
   "execution_count": null,
   "metadata": {
    "collapsed": true
   },
   "outputs": [],
   "source": [
    "#n[0].header.append((\"hey\",\"2\"))\n",
    "#pyfits.writeto('mean_Ali_Sci.fits', era)"
   ]
  }
 ],
 "metadata": {
  "kernelspec": {
   "display_name": "Python 3",
   "language": "python",
   "name": "python3"
  },
  "language_info": {
   "codemirror_mode": {
    "name": "ipython",
    "version": 3
   },
   "file_extension": ".py",
   "mimetype": "text/x-python",
   "name": "python",
   "nbconvert_exporter": "python",
   "pygments_lexer": "ipython3",
   "version": "3.6.1"
  }
 },
 "nbformat": 4,
 "nbformat_minor": 0
}
